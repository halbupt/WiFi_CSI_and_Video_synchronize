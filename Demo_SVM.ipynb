{
 "cells": [
  {
   "cell_type": "code",
   "execution_count": 35,
   "metadata": {},
   "outputs": [],
   "source": [
    "import os\n",
    "import numpy as np\n",
    "import matplotlib.pyplot as plt\n",
    "import pandas as pd\n",
    "import scipy.io as sio\n",
    "\n",
    "def plot_confusion_matrix(cm, labels_name, title):\n",
    "    cm = cm.astype('float') / cm.sum(axis=1)[:, np.newaxis]  #  normalization\n",
    "    plt.imshow(cm, interpolation='nearest')  # Displays an image on a specific window\n",
    "    plt.title(title)  # Figure title\n",
    "    plt.colorbar()\n",
    "    num_local = np.array(range(len(labels_name)))\n",
    "    plt.xticks(num_local, labels_name, rotation=90)  # Print the label on the X-axis\n",
    "    plt.yticks(num_local, labels_name)  # Print the label on the Y-axis\n",
    "    plt.ylabel('True label')\n",
    "    plt.xlabel('Predicted label')   \n"
   ]
  },
  {
   "cell_type": "code",
   "execution_count": 74,
   "metadata": {},
   "outputs": [],
   "source": [
    "# Importing the datasets\n",
    "\n",
    "data = sio.loadmat('3s_scene_python/train_data.mat')\n",
    "X_Train = data['train_data']\n",
    "data = sio.loadmat('3s_scene_python/train_label.mat')\n",
    "Y_Train0 = data['train_label']\n",
    "Y_Train = Y_Train0.squeeze()\n",
    "\n",
    "data = sio.loadmat('3s_scene_python/test_data.mat')\n",
    "X_Test = data['test_data']\n",
    "data = sio.loadmat('3s_scene_python/test_label.mat')\n",
    "Y_Test0 = data['test_label']\n",
    "Y_Test = Y_Test0.squeeze()\n"
   ]
  },
  {
   "cell_type": "code",
   "execution_count": 75,
   "metadata": {},
   "outputs": [],
   "source": [
    "# Feature Scaling\n",
    "\n",
    "from sklearn.preprocessing import StandardScaler\n",
    "\n",
    "sc_X = StandardScaler()\n",
    "X_Train = sc_X.fit_transform(X_Train)\n",
    "X_Test = sc_X.transform(X_Test)\n"
   ]
  },
  {
   "cell_type": "code",
   "execution_count": 76,
   "metadata": {},
   "outputs": [
    {
     "data": {
      "text/plain": [
       "SVC(C=1.0, break_ties=False, cache_size=200, class_weight=None, coef0=0.0,\n",
       "    decision_function_shape='ovr', degree=3, gamma='scale', kernel='linear',\n",
       "    max_iter=-1, probability=False, random_state=0, shrinking=True, tol=0.001,\n",
       "    verbose=False)"
      ]
     },
     "execution_count": 76,
     "metadata": {},
     "output_type": "execute_result"
    }
   ],
   "source": [
    "# Fitting the classifier into the Training set\n",
    "\n",
    "from sklearn.svm import SVC\n",
    "\n",
    "classifier = SVC(kernel='linear', random_state=0)\n",
    "classifier.fit(X_Train, Y_Train)\n"
   ]
  },
  {
   "cell_type": "code",
   "execution_count": 77,
   "metadata": {},
   "outputs": [],
   "source": [
    "# Predicting the test set results\n",
    "\n",
    "Y_Pred = classifier.predict(X_Test)\n"
   ]
  },
  {
   "cell_type": "code",
   "execution_count": 78,
   "metadata": {
    "scrolled": true
   },
   "outputs": [
    {
     "data": {
      "text/plain": [
       "array([[ 6,  0,  0,  0,  0,  0,  0,  0,  6],\n",
       "       [ 6,  0,  6,  0,  0,  0,  0,  0,  0],\n",
       "       [ 6,  6,  0,  0,  0,  0,  0,  0,  0],\n",
       "       [ 6,  6,  0,  0,  0,  0,  0,  0,  0],\n",
       "       [ 6,  0,  0,  6,  0,  0,  0,  0,  0],\n",
       "       [ 6,  0,  0,  6,  0,  0,  0,  0,  0],\n",
       "       [ 0,  0,  0,  0,  0,  6,  0, 12,  0],\n",
       "       [ 0,  0,  0,  0,  0,  0,  6, 12,  0],\n",
       "       [ 6,  0,  0,  0,  0,  0,  0,  0,  6]], dtype=int64)"
      ]
     },
     "execution_count": 78,
     "metadata": {},
     "output_type": "execute_result"
    }
   ],
   "source": [
    "# Making the Confusion Matrix\n",
    "from sklearn.metrics import confusion_matrix\n",
    "\n",
    "confusion_matrix(Y_Test, Y_Pred)\n"
   ]
  },
  {
   "cell_type": "code",
   "execution_count": 79,
   "metadata": {},
   "outputs": [
    {
     "data": {
      "image/png": "[encoded data removed]",
      "text/plain": [
       "<Figure size 432x288 with 2 Axes>"
      ]
     },
     "metadata": {
      "needs_background": "light"
     },
     "output_type": "display_data"
    }
   ],
   "source": [
    "# Show the confusion matrix \n",
    "\n",
    "cm = confusion_matrix(Y_Test, Y_Pred)\n",
    "labels_name = [\"falling_down\", \"throwing\", \"pushing\", \"kicking\", \"punching\", \"jumping\", \"drinking\", \"phone_talking\",\n",
    "               \"seating\"]\n",
    "plot_confusion_matrix(cm, labels_name, \"Confusion Matrix\")\n",
    "plt.show()\n"
   ]
  },
  {
   "cell_type": "code",
   "execution_count": 80,
   "metadata": {},
   "outputs": [
    {
     "name": "stdout",
     "output_type": "stream",
     "text": [
      "               precision    recall  f1-score   support\n",
      "\n",
      " falling_down       0.14      0.50      0.22        12\n",
      "     throwing       0.00      0.00      0.00        12\n",
      "      pushing       0.00      0.00      0.00        12\n",
      "      kicking       0.00      0.00      0.00        12\n",
      "     punching       0.00      0.00      0.00        12\n",
      "      jumping       0.00      0.00      0.00        12\n",
      "     drinking       0.00      0.00      0.00        18\n",
      "phone_talking       0.50      0.67      0.57        18\n",
      "      seating       0.50      0.50      0.50        12\n",
      "\n",
      "     accuracy                           0.20       120\n",
      "    macro avg       0.13      0.19      0.14       120\n",
      " weighted avg       0.14      0.20      0.16       120\n",
      "\n"
     ]
    },
    {
     "name": "stderr",
     "output_type": "stream",
     "text": [
      "C:\\Users\\Yanling\\Anaconda3\\lib\\site-packages\\sklearn\\metrics\\_classification.py:1272: UndefinedMetricWarning: Precision and F-score are ill-defined and being set to 0.0 in labels with no predicted samples. Use `zero_division` parameter to control this behavior.\n",
      "  _warn_prf(average, modifier, msg_start, len(result))\n"
     ]
    }
   ],
   "source": [
    "# Print classification report\n",
    "\n",
    "from sklearn.metrics import classification_report\n",
    "\n",
    "print (classification_report(Y_Test,Y_Pred, target_names = labels_name))\n"
   ]
  },
  {
   "cell_type": "code",
   "execution_count": null,
   "metadata": {},
   "outputs": [],
   "source": []
  },
  {
   "cell_type": "code",
   "execution_count": null,
   "metadata": {},
   "outputs": [],
   "source": []
  }
 ],
 "metadata": {
  "kernelspec": {
   "display_name": "Python 3",
   "language": "python",
   "name": "python3"
  },
  "language_info": {
   "codemirror_mode": {
    "name": "ipython",
    "version": 3
   },
   "file_extension": ".py",
   "mimetype": "text/x-python",
   "name": "python",
   "nbconvert_exporter": "python",
   "pygments_lexer": "ipython3",
   "version": "3.7.4"
  }
 },
 "nbformat": 4,
 "nbformat_minor": 4
}
